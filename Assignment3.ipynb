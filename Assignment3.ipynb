{
 "cells": [
  {
   "cell_type": "code",
   "execution_count": 83,
   "metadata": {},
   "outputs": [
    {
     "name": "stdout",
     "output_type": "stream",
     "text": [
      "enter user input8\n",
      "8 - is not prime number\n"
     ]
    }
   ],
   "source": [
    "# program to find whether the number is prime or not ;\n",
    "\n",
    "x=int(input(\"enter user input\"))\n",
    "if(x>1) :\n",
    "    for i in range(2,x) :\n",
    "        if(x%i)==0:\n",
    "         print(x,\"- is not prime number\")\n",
    "         break\n",
    "    else:\n",
    "       print(x,\"it is a prime number\")\n",
    "    \n",
    "    # when entered input is lesser than or equal to 1\n",
    "else:\n",
    " print(\"not a prime\")\n",
    "    "
   ]
  },
  {
   "cell_type": "code",
   "execution_count": null,
   "metadata": {},
   "outputs": [],
   "source": []
  },
  {
   "cell_type": "code",
   "execution_count": null,
   "metadata": {},
   "outputs": [],
   "source": []
  }
 ],
 "metadata": {
  "kernelspec": {
   "display_name": "Python 3",
   "language": "python",
   "name": "python3"
  },
  "language_info": {
   "codemirror_mode": {
    "name": "ipython",
    "version": 3
   },
   "file_extension": ".py",
   "mimetype": "text/x-python",
   "name": "python",
   "nbconvert_exporter": "python",
   "pygments_lexer": "ipython3",
   "version": "3.8.3"
  }
 },
 "nbformat": 4,
 "nbformat_minor": 4
}
